{
 "cells": [
  {
   "cell_type": "markdown",
   "metadata": {},
   "source": [
    "### 1. Develop a DMD model to forecast the future population states\n",
    "\n",
    "#### Load data"
   ]
  },
  {
   "cell_type": "code",
   "execution_count": 1,
   "metadata": {},
   "outputs": [],
   "source": [
    "import pandas as pd\n",
    "import numpy as np\n",
    "import matplotlib.pyplot as plt\n",
    "from sklearn import linear_model\n",
    "from scipy.integrate import solve_ivp\n",
    "from scipy.interpolate import interp1d\n",
    "\n",
    "import warnings\n",
    "warnings.filterwarnings('ignore')"
   ]
  },
  {
   "cell_type": "code",
   "execution_count": 2,
   "metadata": {},
   "outputs": [
    {
     "data": {
      "text/html": [
       "<div>\n",
       "<style scoped>\n",
       "    .dataframe tbody tr th:only-of-type {\n",
       "        vertical-align: middle;\n",
       "    }\n",
       "\n",
       "    .dataframe tbody tr th {\n",
       "        vertical-align: top;\n",
       "    }\n",
       "\n",
       "    .dataframe thead th {\n",
       "        text-align: right;\n",
       "    }\n",
       "</style>\n",
       "<table border=\"1\" class=\"dataframe\">\n",
       "  <thead>\n",
       "    <tr style=\"text-align: right;\">\n",
       "      <th></th>\n",
       "      <th>hare</th>\n",
       "      <th>lynx</th>\n",
       "    </tr>\n",
       "    <tr>\n",
       "      <th>year</th>\n",
       "      <th></th>\n",
       "      <th></th>\n",
       "    </tr>\n",
       "  </thead>\n",
       "  <tbody>\n",
       "    <tr>\n",
       "      <th>1845</th>\n",
       "      <td>20</td>\n",
       "      <td>32</td>\n",
       "    </tr>\n",
       "    <tr>\n",
       "      <th>1847</th>\n",
       "      <td>20</td>\n",
       "      <td>50</td>\n",
       "    </tr>\n",
       "    <tr>\n",
       "      <th>1849</th>\n",
       "      <td>52</td>\n",
       "      <td>12</td>\n",
       "    </tr>\n",
       "    <tr>\n",
       "      <th>1851</th>\n",
       "      <td>83</td>\n",
       "      <td>10</td>\n",
       "    </tr>\n",
       "    <tr>\n",
       "      <th>1853</th>\n",
       "      <td>64</td>\n",
       "      <td>13</td>\n",
       "    </tr>\n",
       "  </tbody>\n",
       "</table>\n",
       "</div>"
      ],
      "text/plain": [
       "      hare  lynx\n",
       "year            \n",
       "1845    20    32\n",
       "1847    20    50\n",
       "1849    52    12\n",
       "1851    83    10\n",
       "1853    64    13"
      ]
     },
     "execution_count": 2,
     "metadata": {},
     "output_type": "execute_result"
    }
   ],
   "source": [
    "df = pd.read_csv('data/table.csv')\n",
    "df = df.set_index(['year'])\n",
    "df.head()"
   ]
  },
  {
   "cell_type": "code",
   "execution_count": 3,
   "metadata": {},
   "outputs": [
    {
     "data": {
      "text/plain": [
       "<matplotlib.axes._subplots.AxesSubplot at 0x11cdd0ca0>"
      ]
     },
     "execution_count": 3,
     "metadata": {},
     "output_type": "execute_result"
    },
    {
     "data": {
      "image/png": "[encoded data removed]",
      "text/plain": [
       "<Figure size 432x288 with 1 Axes>"
      ]
     },
     "metadata": {
      "needs_background": "light"
     },
     "output_type": "display_data"
    }
   ],
   "source": [
    "df.plot()"
   ]
  },
  {
   "cell_type": "markdown",
   "metadata": {},
   "source": [
    "#### Prepare variables"
   ]
  },
  {
   "cell_type": "code",
   "execution_count": 4,
   "metadata": {},
   "outputs": [
    {
     "data": {
      "text/plain": [
       "array([[ 20,  32],\n",
       "       [ 20,  50],\n",
       "       [ 52,  12],\n",
       "       [ 83,  10],\n",
       "       [ 64,  13],\n",
       "       [ 68,  36],\n",
       "       [ 83,  15],\n",
       "       [ 12,  12],\n",
       "       [ 36,   6],\n",
       "       [150,   6],\n",
       "       [110,  65],\n",
       "       [ 60,  70],\n",
       "       [  7,  40],\n",
       "       [ 10,   9],\n",
       "       [ 70,  20],\n",
       "       [100,  34],\n",
       "       [ 92,  45],\n",
       "       [ 70,  40],\n",
       "       [ 10,  15],\n",
       "       [ 11,  15],\n",
       "       [137,  60],\n",
       "       [137,  80],\n",
       "       [ 18,  26],\n",
       "       [ 22,  18],\n",
       "       [ 52,  37],\n",
       "       [ 83,  50],\n",
       "       [ 18,  35],\n",
       "       [ 10,  12],\n",
       "       [  9,  12],\n",
       "       [ 65,  25]])"
      ]
     },
     "execution_count": 4,
     "metadata": {},
     "output_type": "execute_result"
    }
   ],
   "source": [
    "years = df.index.values\n",
    "x    = df.values\n",
    "x"
   ]
  },
  {
   "cell_type": "code",
   "execution_count": 5,
   "metadata": {},
   "outputs": [
    {
     "data": {
      "text/plain": [
       "(30, 2)"
      ]
     },
     "execution_count": 5,
     "metadata": {},
     "output_type": "execute_result"
    }
   ],
   "source": [
    "x.shape"
   ]
  },
  {
   "cell_type": "code",
   "execution_count": 6,
   "metadata": {},
   "outputs": [],
   "source": [
    "r   = 2\n",
    "X1  = x[:-1]\n",
    "X2  = x[1:]"
   ]
  },
  {
   "cell_type": "markdown",
   "metadata": {},
   "source": [
    "#### Define DMD function "
   ]
  },
  {
   "cell_type": "code",
   "execution_count": 7,
   "metadata": {},
   "outputs": [],
   "source": [
    "def DMD(X,Xprime,r):\n",
    "    \n",
    "    # Step 1\n",
    "    U,Sigma,VT = np.linalg.svd(X,full_matrices=0) \n",
    "    Ur = U[:,:r]\n",
    "    Sigmar = np.diag(Sigma[:r])\n",
    "    VTr = VT[:r,:]\n",
    "    \n",
    "    # Step 2\n",
    "    Atilde = np.linalg.solve(Sigmar.T,(Ur.T @ Xprime @ VTr.T).T).T \n",
    "    \n",
    "    # Step 3\n",
    "    Lambda, W = np.linalg.eig(Atilde) \n",
    "    Lambda = np.diag(Lambda)\n",
    "    \n",
    "    # Step 4\n",
    "    Phi = Xprime @ np.linalg.solve(Sigmar.T,VTr).T @ W \n",
    "    alpha1 = Sigmar @ VTr[:,0]\n",
    "    b = np.linalg.solve(W @ Lambda,alpha1)\n",
    "    \n",
    "    return Phi, Lambda, b"
   ]
  },
  {
   "cell_type": "markdown",
   "metadata": {},
   "source": [
    "#### Run DMD"
   ]
  },
  {
   "cell_type": "code",
   "execution_count": 8,
   "metadata": {},
   "outputs": [],
   "source": [
    "Phi, Lambda, b = DMD(X1,X2,r)"
   ]
  },
  {
   "cell_type": "code",
   "execution_count": 9,
   "metadata": {},
   "outputs": [
    {
     "data": {
      "text/plain": [
       "array([-555.27091596,  -87.26562251])"
      ]
     },
     "execution_count": 9,
     "metadata": {},
     "output_type": "execute_result"
    }
   ],
   "source": [
    "b"
   ]
  },
  {
   "cell_type": "code",
   "execution_count": 10,
   "metadata": {},
   "outputs": [
    {
     "data": {
      "text/plain": [
       "array([[0.7247559 , 0.        ],\n",
       "       [0.        , 0.37843393]])"
      ]
     },
     "execution_count": 10,
     "metadata": {},
     "output_type": "execute_result"
    }
   ],
   "source": [
    "Lambda"
   ]
  },
  {
   "cell_type": "code",
   "execution_count": 11,
   "metadata": {},
   "outputs": [
    {
     "data": {
      "text/plain": [
       "array([[-3.27248622e-02, -2.06827921e-01],\n",
       "       [-1.42128429e-01,  1.57386617e-01],\n",
       "       [-2.31284009e-01,  3.05138655e-01],\n",
       "       [-1.75782583e-01,  2.04129162e-01],\n",
       "       [-1.76043070e-01,  8.61804441e-02],\n",
       "       [-2.28866899e-01,  2.75683604e-01],\n",
       "       [-2.83365120e-02, -1.80585678e-02],\n",
       "       [-9.95121940e-02,  1.22554604e-01],\n",
       "       [-4.23819158e-01,  6.22573380e-01],\n",
       "       [-2.81505347e-01,  9.95585902e-02],\n",
       "       [-1.36848341e-01, -1.49202942e-01],\n",
       "       [-5.76708359e-04, -2.04937503e-01],\n",
       "       [-2.40971820e-02, -9.15779625e-03],\n",
       "       [-1.89467417e-01,  1.89208868e-01],\n",
       "       [-2.68043448e-01,  2.38318612e-01],\n",
       "       [-2.39967423e-01,  1.38428462e-01],\n",
       "       [-1.79798978e-01,  7.13886623e-02],\n",
       "       [-2.11966504e-02, -4.45038578e-02],\n",
       "       [-2.40414483e-02, -4.01177282e-02],\n",
       "       [-3.60732001e-01,  2.47439141e-01],\n",
       "       [-3.51063562e-01,  1.29618936e-01],\n",
       "       [-3.86373926e-02, -7.42159338e-02],\n",
       "       [-5.38839598e-02, -9.54333328e-03],\n",
       "       [-1.30042881e-01,  1.01113601e-02],\n",
       "       [-2.11947132e-01,  6.94982446e-02],\n",
       "       [-3.42865953e-02, -1.27235026e-01],\n",
       "       [-2.26469162e-02, -2.68308270e-02],\n",
       "       [-1.98021182e-02, -3.12169567e-02],\n",
       "       [-1.72826317e-01,  1.37823168e-01]])"
      ]
     },
     "execution_count": 11,
     "metadata": {},
     "output_type": "execute_result"
    }
   ],
   "source": [
    "Phi"
   ]
  },
  {
   "cell_type": "markdown",
   "metadata": {},
   "source": [
    "#### Forecast 10 time steps"
   ]
  },
  {
   "cell_type": "code",
   "execution_count": 12,
   "metadata": {},
   "outputs": [],
   "source": [
    "omega = np.log(Lambda)/2"
   ]
  },
  {
   "cell_type": "code",
   "execution_count": 13,
   "metadata": {},
   "outputs": [],
   "source": [
    "forecast = []\n",
    "\n",
    "for i in range(10):\n",
    "    x = Phi @ np.exp(omega*i) * b\n",
    "    forecast.append(x)\n",
    "forecast = np.array(forecast)"
   ]
  },
  {
   "cell_type": "code",
   "execution_count": 14,
   "metadata": {},
   "outputs": [
    {
     "data": {
      "text/plain": [
       "[<matplotlib.lines.Line2D at 0x11ef87e80>,\n",
       " <matplotlib.lines.Line2D at 0x11ef87fa0>]"
      ]
     },
     "execution_count": 14,
     "metadata": {},
     "output_type": "execute_result"
    },
    {
     "data": {
      "image/png": "[encoded data removed]",
      "text/plain": [
       "<Figure size 432x288 with 1 Axes>"
      ]
     },
     "metadata": {
      "needs_background": "light"
     },
     "output_type": "display_data"
    }
   ],
   "source": [
    "plt.plot(forecast[2])"
   ]
  },
  {
   "cell_type": "code",
   "execution_count": null,
   "metadata": {},
   "outputs": [],
   "source": []
  }
 ],
 "metadata": {
  "kernelspec": {
   "display_name": "Python 3",
   "language": "python",
   "name": "python3"
  },
  "language_info": {
   "codemirror_mode": {
    "name": "ipython",
    "version": 3
   },
   "file_extension": ".py",
   "mimetype": "text/x-python",
   "name": "python",
   "nbconvert_exporter": "python",
   "pygments_lexer": "ipython3",
   "version": "3.8.2"
  }
 },
 "nbformat": 4,
 "nbformat_minor": 4
}
