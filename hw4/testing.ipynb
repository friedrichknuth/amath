{
 "cells": [
  {
   "cell_type": "markdown",
   "metadata": {},
   "source": [
    "## Homework 4: Neural Networks for Dynamical Systems\n",
    "DUE: Wednesday, June 10, 2020"
   ]
  },
  {
   "cell_type": "markdown",
   "metadata": {},
   "source": [
    "### Download the accompanying ZIP file which includes MATLAB code for solving (i) A reaction-diffusion system of equations, and (ii) The Kuramoto-Sivashinsky (KS) equation."
   ]
  },
  {
   "cell_type": "markdown",
   "metadata": {},
   "source": [
    "### 1. Train a NN that can advance the solution from t to t + ∆t for the KS equation\n"
   ]
  },
  {
   "cell_type": "markdown",
   "metadata": {},
   "source": [
    "Define KS equation"
   ]
  },
  {
   "cell_type": "code",
   "execution_count": null,
   "metadata": {},
   "outputs": [],
   "source": []
  },
  {
   "cell_type": "markdown",
   "metadata": {},
   "source": [
    "Define Stochastic Gradient Descent Neural Network"
   ]
  },
  {
   "cell_type": "code",
   "execution_count": null,
   "metadata": {},
   "outputs": [],
   "source": []
  },
  {
   "cell_type": "markdown",
   "metadata": {},
   "source": [
    "Advance the solution"
   ]
  },
  {
   "cell_type": "code",
   "execution_count": null,
   "metadata": {},
   "outputs": [],
   "source": []
  },
  {
   "cell_type": "code",
   "execution_count": null,
   "metadata": {},
   "outputs": [],
   "source": []
  },
  {
   "cell_type": "markdown",
   "metadata": {},
   "source": [
    "### 2. Compare your evolution trajectories for your NN against using the ODE time-stepper provided with different initial conditions"
   ]
  },
  {
   "cell_type": "markdown",
   "metadata": {},
   "source": [
    "Advance KS with ODE and compare to NN output"
   ]
  },
  {
   "cell_type": "code",
   "execution_count": null,
   "metadata": {},
   "outputs": [],
   "source": []
  },
  {
   "cell_type": "code",
   "execution_count": null,
   "metadata": {},
   "outputs": [],
   "source": []
  },
  {
   "cell_type": "code",
   "execution_count": null,
   "metadata": {},
   "outputs": [],
   "source": []
  },
  {
   "cell_type": "markdown",
   "metadata": {},
   "source": [
    "### 3. For the reaction-diffusion system, first project to a low-dimensional subspace via the SVD and see how forecasting works in the low-rank variables."
   ]
  },
  {
   "cell_type": "markdown",
   "metadata": {},
   "source": [
    "Define reaction-diffusion system equation"
   ]
  },
  {
   "cell_type": "code",
   "execution_count": null,
   "metadata": {},
   "outputs": [],
   "source": []
  },
  {
   "cell_type": "markdown",
   "metadata": {},
   "source": [
    "SVD and forecast"
   ]
  },
  {
   "cell_type": "code",
   "execution_count": null,
   "metadata": {},
   "outputs": [],
   "source": []
  },
  {
   "cell_type": "markdown",
   "metadata": {},
   "source": [
    "Compare to ODE and NN outputs"
   ]
  },
  {
   "cell_type": "code",
   "execution_count": null,
   "metadata": {},
   "outputs": [],
   "source": []
  },
  {
   "cell_type": "code",
   "execution_count": null,
   "metadata": {},
   "outputs": [],
   "source": []
  },
  {
   "cell_type": "markdown",
   "metadata": {},
   "source": [
    "### For the Lorenz equations (code given out previously in class emails), consider the following.\n",
    "### 1. Train a NN to advance the solution from t to t+∆t for ρ=10, 28 and 40. Now see how well your NN works for future state prediction for ρ = 17 and ρ = 35."
   ]
  },
  {
   "cell_type": "markdown",
   "metadata": {},
   "source": [
    "Define Lorenz equations"
   ]
  },
  {
   "cell_type": "code",
   "execution_count": null,
   "metadata": {},
   "outputs": [],
   "source": []
  },
  {
   "cell_type": "markdown",
   "metadata": {},
   "source": [
    "Define Stochastic Gradient Descent Neural Network"
   ]
  },
  {
   "cell_type": "code",
   "execution_count": null,
   "metadata": {},
   "outputs": [],
   "source": []
  },
  {
   "cell_type": "markdown",
   "metadata": {},
   "source": [
    "Advance the solution"
   ]
  },
  {
   "cell_type": "code",
   "execution_count": null,
   "metadata": {},
   "outputs": [],
   "source": []
  },
  {
   "cell_type": "markdown",
   "metadata": {},
   "source": [
    "Evaluate future predictions"
   ]
  },
  {
   "cell_type": "code",
   "execution_count": null,
   "metadata": {},
   "outputs": [],
   "source": []
  },
  {
   "cell_type": "markdown",
   "metadata": {},
   "source": [
    "### 2. See if you can train your NN to identify (for ρ = 28) when a transition from one lobe to another is imminent. Determine how far in advance you can make this prediction. (NOTE: you will have to label the transitions in a test set in order to do this task)"
   ]
  },
  {
   "cell_type": "code",
   "execution_count": null,
   "metadata": {},
   "outputs": [],
   "source": []
  },
  {
   "cell_type": "code",
   "execution_count": null,
   "metadata": {},
   "outputs": [],
   "source": []
  },
  {
   "cell_type": "code",
   "execution_count": null,
   "metadata": {},
   "outputs": [],
   "source": []
  },
  {
   "cell_type": "markdown",
   "metadata": {},
   "source": [
    "## Scrap"
   ]
  },
  {
   "cell_type": "code",
   "execution_count": 2,
   "metadata": {},
   "outputs": [],
   "source": [
    "# clear all; close all; clc\n",
    "\n",
    "# % Kuramoto-Sivashinsky equation (from Trefethen)\n",
    "# % u_t = -u*u_x - u_xx - u_xxxx,  periodic BCs \n",
    "\n",
    "# N = 1024;\n",
    "# x = 32*pi*(1:N)'/N;\n",
    "# u = cos(x/16).*(1+sin(x/16)); \n",
    "# v = fft(u);\n",
    "\n",
    "# % % % % % %\n",
    "# %Spatial grid and initial condition:\n",
    "# h = 0.025;\n",
    "# k = [0:N/2-1 0 -N/2+1:-1]'/16;\n",
    "# L = k.^2 - k.^4;\n",
    "# E = exp(h*L); E2 = exp(h*L/2);\n",
    "# M = 16;\n",
    "# r = exp(1i*pi*((1:M)-.5)/M);\n",
    "# LR = h*L(:,ones(M,1)) + r(ones(N,1),:);\n",
    "# Q = h*real(mean( (exp(LR/2)-1)./LR ,2)); \n",
    "# f1 = h*real(mean( (-4-LR+exp(LR).*(4-3*LR+LR.^2))./LR.^3 ,2)); \n",
    "# f2 = h*real(mean( (2+LR+exp(LR).*(-2+LR))./LR.^3 ,2));\n",
    "# f3 = h*real(mean( (-4-3*LR-LR.^2+exp(LR).*(4-LR))./LR.^3 ,2));\n",
    "\n",
    "# % Main time-stepping loop:\n",
    "# uu = u; tt = 0;\n",
    "# tmax = 100; nmax = round(tmax/h); nplt = floor((tmax/250)/h); g = -0.5i*k;\n",
    "# for n = 1:nmax\n",
    "# t = n*h;\n",
    "# Nv = g.*fft(real(ifft(v)).^2);\n",
    "# a = E2.*v + Q.*Nv;\n",
    "# Na = g.*fft(real(ifft(a)).^2);\n",
    "# b = E2.*v + Q.*Na;\n",
    "# Nb = g.*fft(real(ifft(b)).^2);\n",
    "# c = E2.*a + Q.*(2*Nb-Nv);\n",
    "# Nc = g.*fft(real(ifft(c)).^2);\n",
    "# v = E.*v + Nv.*f1 + 2*(Na+Nb).*f2 + Nc.*f3; if mod(n,nplt)==0\n",
    "#         u = real(ifft(v));\n",
    "# uu = [uu,u]; tt = [tt,t]; end\n",
    "# end\n",
    "# % Plot results:\n",
    "# surf(tt,x,uu), shading interp, colormap(hot), axis tight \n",
    "# % view([-90 90]), colormap(autumn); \n",
    "# set(gca,'zlim',[-5 50]) \n",
    "\n",
    "# save('kuramoto_sivishinky.mat','x','tt','uu')\n",
    "\n",
    "# %%\n",
    "# figure(2), pcolor(x,tt,uu.'),shading interp, colormap(hot),axis off"
   ]
  },
  {
   "cell_type": "code",
   "execution_count": 4,
   "metadata": {},
   "outputs": [],
   "source": [
    "# https://github.com/E-Renshaw/kuramoto-sivashinsky"
   ]
  },
  {
   "cell_type": "code",
   "execution_count": 5,
   "metadata": {},
   "outputs": [],
   "source": [
    "# import numpy as np\n",
    "# from mpl_toolkits.mplot3d import Axes3D\n",
    "# import matplotlib.pyplot as plt\n",
    "# from matplotlib import cm\n",
    "\n",
    "# # KSequ.m - solution of Kuramoto-Sivashinsky equation\n",
    "# #\n",
    "# # u_t = -u*u_x - u_xx - u_xxxx, periodic boundary conditions on [0,32*pi]\n",
    "# # computation is based on v = fft(u), so linear term is diagonal\n",
    "# #\n",
    "# # Using this program:\n",
    "# # u is the initial condition\n",
    "# # h is the time step\n",
    "# # N is the number of points calculated along x\n",
    "# # a is the max value in the initial condition\n",
    "# # b is the min value in the initial condition\n",
    "# # x is used when using a periodic boundary condition, to set up in terms of\n",
    "# #   pi\n",
    "# #\n",
    "# # Initial condition and grid setup\n",
    "# N = 1024\n",
    "# x = np.transpose(np.conj(np.arange(1, N+1))) / N\n",
    "# a = -1\n",
    "# b = 1\n",
    "# u = np.cos(x/16)*(1+np.sin(x/16))\n",
    "# v = np.fft.fft(u)\n",
    "# # scalars for ETDRK4\n",
    "# h = 0.25\n",
    "# k = np.transpose(np.conj(np.concatenate((np.arange(0, N/2), np.array([0]), np.arange(-N/2+1, 0))))) / 16\n",
    "# L = k**2 - k**4\n",
    "# E = np.exp(h*L)\n",
    "# E_2 = np.exp(h*L/2)\n",
    "# M = 16\n",
    "# r = np.exp(1j*np.pi*(np.arange(1, M+1)-0.5) / M)\n",
    "# LR = h*np.transpose(np.repeat([L], M, axis=0)) + np.repeat([r], N, axis=0)\n",
    "# Q = h*np.real(np.mean((np.exp(LR/2)-1)/LR, axis=1))\n",
    "# f1 = h*np.real(np.mean((-4-LR+np.exp(LR)*(4-3*LR+LR**2))/LR**3, axis=1))\n",
    "# f2 = h*np.real(np.mean((2+LR+np.exp(LR)*(-2+LR))/LR**3, axis=1))\n",
    "# f3 = h*np.real(np.mean((-4-3*LR-LR**2+np.exp(LR)*(4-LR))/LR**3, axis=1))\n",
    "# # main loop\n",
    "# uu = np.array([u])\n",
    "# tt = 0\n",
    "# tmax = 150\n",
    "# nmax = round(tmax/h)\n",
    "# nplt = int((tmax/100)/h)\n",
    "# g = -0.5j*k\n",
    "# for n in range(1, nmax+1):\n",
    "#     t = n*h\n",
    "#     Nv = g*np.fft.fft(np.real(np.fft.ifft(v))**2)\n",
    "#     a = E_2*v + Q*Nv\n",
    "#     Na = g*np.fft.fft(np.real(np.fft.ifft(a))**2)\n",
    "#     b = E_2*v + Q*Na\n",
    "#     Nb = g*np.fft.fft(np.real(np.fft.ifft(b))**2)\n",
    "#     c = E_2*a + Q*(2*Nb-Nv)\n",
    "#     Nc = g*np.fft.fft(np.real(np.fft.ifft(c))**2)\n",
    "#     v = E*v + Nv*f1 + 2*(Na+Nb)*f2 + Nc*f3\n",
    "#     if n%nplt == 0:\n",
    "#         u = np.real(np.fft.ifft(v))\n",
    "#         uu = np.append(uu, np.array([u]), axis=0)\n",
    "#         tt = np.hstack((tt, t))\n",
    "# # plot\n",
    "# fig = plt.figure()\n",
    "# ax = fig.gca(projection='3d')\n",
    "# tt, x = np.meshgrid(tt, x)\n",
    "# surf = ax.plot_surface(tt, x, uu.transpose(), cmap=cm.coolwarm, linewidth=0, antialiased=False)\n",
    "# fig.colorbar(surf, shrink=0.5, aspect=5)\n",
    "# plt.show()"
   ]
  },
  {
   "cell_type": "code",
   "execution_count": null,
   "metadata": {},
   "outputs": [],
   "source": []
  },
  {
   "cell_type": "code",
   "execution_count": null,
   "metadata": {},
   "outputs": [],
   "source": []
  },
  {
   "cell_type": "code",
   "execution_count": null,
   "metadata": {},
   "outputs": [],
   "source": []
  },
  {
   "cell_type": "code",
   "execution_count": null,
   "metadata": {},
   "outputs": [],
   "source": []
  }
 ],
 "metadata": {
  "kernelspec": {
   "display_name": "Python 3",
   "language": "python",
   "name": "python3"
  },
  "language_info": {
   "codemirror_mode": {
    "name": "ipython",
    "version": 3
   },
   "file_extension": ".py",
   "mimetype": "text/x-python",
   "name": "python",
   "nbconvert_exporter": "python",
   "pygments_lexer": "ipython3",
   "version": "3.6.10"
  }
 },
 "nbformat": 4,
 "nbformat_minor": 4
}
