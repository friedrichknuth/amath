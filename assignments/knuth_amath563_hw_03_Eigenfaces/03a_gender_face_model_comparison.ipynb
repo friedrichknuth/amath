{
 "cells": [
  {
   "cell_type": "markdown",
   "metadata": {},
   "source": [
    "## Load libraries"
   ]
  },
  {
   "cell_type": "code",
   "execution_count": 1,
   "metadata": {},
   "outputs": [],
   "source": [
    "%load_ext autoreload\n",
    "%autoreload 2"
   ]
  },
  {
   "cell_type": "code",
   "execution_count": 2,
   "metadata": {},
   "outputs": [],
   "source": [
    "import numpy as np\n",
    "import pandas as pd\n",
    "import matplotlib.pyplot as plt\n",
    "from mpl_toolkits.axes_grid1 import make_axes_locatable\n",
    "from sklearn.model_selection import train_test_split\n",
    "from sklearn.model_selection import GridSearchCV\n",
    "from sklearn.metrics import classification_report\n",
    "from sklearn.metrics import confusion_matrix\n",
    "from sklearn.decomposition import PCA\n",
    "from sklearn.model_selection import cross_val_score\n",
    "from sklearn.svm import SVC\n",
    "from sklearn.svm import LinearSVC\n",
    "from sklearn.naive_bayes import GaussianNB\n",
    "from sklearn.neighbors import KNeighborsClassifier\n",
    "from sklearn.tree import DecisionTreeClassifier\n",
    "from sklearn.ensemble import RandomForestClassifier, AdaBoostClassifier\n",
    "from sklearn.discriminant_analysis import LinearDiscriminantAnalysis, QuadraticDiscriminantAnalysis\n",
    "from sklearn.metrics import plot_confusion_matrix\n",
    "import warnings\n",
    "warnings.filterwarnings('ignore')"
   ]
  },
  {
   "cell_type": "code",
   "execution_count": 3,
   "metadata": {},
   "outputs": [],
   "source": [
    "import hw"
   ]
  },
  {
   "cell_type": "markdown",
   "metadata": {},
   "source": [
    "## Load data"
   ]
  },
  {
   "cell_type": "code",
   "execution_count": 4,
   "metadata": {},
   "outputs": [],
   "source": [
    "cropped_data_dir = 'data/CroppedYale/'\n",
    "cropped = hw.LoadCropped(cropped_data_dir)"
   ]
  },
  {
   "cell_type": "code",
   "execution_count": 5,
   "metadata": {},
   "outputs": [],
   "source": [
    "gender_labels = np.array(['male', 'male','male','male','female','male','male','male',\n",
    "                 'male','male','male','male','male','female','male','male',\n",
    "                 'male','male','male','male','female','male','male','male',\n",
    "                 'male','female','female','male','male','male','female','male',\n",
    "                 'female','male','male','female','male','male'])\n",
    "faces_dict = dict(zip(cropped.target_names, cropped.faces))\n",
    "for i,v in enumerate(faces_dict):\n",
    "    faces_dict[v] = [faces_dict[v],gender_labels[i]]\n",
    "    \n",
    "female_indices = []\n",
    "females = []\n",
    "males = []\n",
    "male_indices = []\n",
    "for key, value in faces_dict.items():\n",
    "    if value[1] == 'male':\n",
    "        males.append(value[0])\n",
    "        for i in value[0].T:\n",
    "            male_indices.append(0)\n",
    "            \n",
    "    else:\n",
    "        females.append(value[0])\n",
    "        for i in value[0].T:\n",
    "            female_indices.append(1)\n",
    "            \n",
    "females = np.hstack(females).T\n",
    "males = np.hstack(males).T"
   ]
  },
  {
   "cell_type": "code",
   "execution_count": 6,
   "metadata": {},
   "outputs": [],
   "source": [
    "h             = cropped.h\n",
    "w             = cropped.w\n",
    "X             = np.vstack([males,females])\n",
    "y             = np.hstack([male_indices, female_indices])\n",
    "target_names  = np.array(['males','female'])\n",
    "n_samples     = cropped.n_samples\n",
    "n_features    = cropped.n_features\n",
    "n_classes     = 2"
   ]
  },
  {
   "cell_type": "markdown",
   "metadata": {},
   "source": [
    "## Split into training and test data"
   ]
  },
  {
   "cell_type": "code",
   "execution_count": 7,
   "metadata": {},
   "outputs": [],
   "source": [
    "X_train, X_test, y_train, y_test = train_test_split(X, \n",
    "                                                    y, \n",
    "                                                    test_size=0.25, \n",
    "                                                    random_state=42)"
   ]
  },
  {
   "cell_type": "markdown",
   "metadata": {},
   "source": [
    "## Compute rank r truncation"
   ]
  },
  {
   "cell_type": "code",
   "execution_count": 8,
   "metadata": {},
   "outputs": [],
   "source": [
    "U,S,VT = np.linalg.svd(X_train.T,full_matrices=0) "
   ]
  },
  {
   "cell_type": "code",
   "execution_count": 9,
   "metadata": {},
   "outputs": [
    {
     "data": {
      "text/plain": [
       "135"
      ]
     },
     "execution_count": 9,
     "metadata": {},
     "output_type": "execute_result"
    }
   ],
   "source": [
    "var_explained = np.round(S**2/np.sum(S**2), decimals=100)\n",
    "thresh = 0.99\n",
    "cdf=np.cumsum(var_explained)\n",
    "n_components = np.where(cdf>thresh)[0][0]\n",
    "n_components"
   ]
  },
  {
   "cell_type": "markdown",
   "metadata": {},
   "source": [
    "## Compute eigenfaces and project images into subspace"
   ]
  },
  {
   "cell_type": "code",
   "execution_count": 10,
   "metadata": {},
   "outputs": [],
   "source": [
    "pca = PCA(n_components=n_components, \n",
    "          svd_solver='randomized',\n",
    "          whiten=True).fit(X_train)\n",
    "\n",
    "eigenfaces = pca.components_.reshape((n_components, h, w))\n",
    "X_train_pca = pca.transform(X_train)\n",
    "X_test_pca = pca.transform(X_test)"
   ]
  },
  {
   "cell_type": "markdown",
   "metadata": {},
   "source": [
    "## Model Comparison"
   ]
  },
  {
   "cell_type": "markdown",
   "metadata": {},
   "source": [
    "### Support Vector Classification with Radial Basis Function"
   ]
  },
  {
   "cell_type": "code",
   "execution_count": 11,
   "metadata": {},
   "outputs": [],
   "source": [
    "param_grid = {'C': [1e3, 5e3, 1e4, 5e4, 1e5],\n",
    "              'gamma': [0.0001, 0.0005, 0.001, 0.005, 0.01, 0.1], }\n",
    "\n",
    "model = SVC(kernel='rbf', class_weight='balanced')"
   ]
  },
  {
   "cell_type": "code",
   "execution_count": 12,
   "metadata": {},
   "outputs": [
    {
     "name": "stdout",
     "output_type": "stream",
     "text": [
      "Best estimator found by grid search:\n",
      "SVC(C=1000.0, break_ties=False, cache_size=200, class_weight='balanced',\n",
      "    coef0=0.0, decision_function_shape='ovr', degree=3, gamma=0.0005,\n",
      "    kernel='rbf', max_iter=-1, probability=False, random_state=None,\n",
      "    shrinking=True, tol=0.001, verbose=False)\n",
      "Score: 0.96\n"
     ]
    }
   ],
   "source": [
    "clf_svm_rbf = GridSearchCV(model, param_grid)\n",
    "clf_svm_rbf = clf_svm_rbf.fit(X_train_pca, y_train)\n",
    "print(\"Best estimator found by grid search:\")\n",
    "print(clf_svm_rbf.best_estimator_)\n",
    "print(\"Score: %0.2f\" % clf_svm_rbf.best_score_)"
   ]
  },
  {
   "cell_type": "code",
   "execution_count": 13,
   "metadata": {},
   "outputs": [
    {
     "data": {
      "text/plain": [
       "mean_fit_time                             0.0803592\n",
       "std_fit_time                             0.00230279\n",
       "mean_score_time                           0.0111182\n",
       "std_score_time                          0.000361507\n",
       "param_C                                        1000\n",
       "param_gamma                                  0.0005\n",
       "params               {'C': 1000.0, 'gamma': 0.0005}\n",
       "split0_test_score                          0.977901\n",
       "split1_test_score                          0.941989\n",
       "split2_test_score                          0.950276\n",
       "split3_test_score                          0.966851\n",
       "split4_test_score                          0.958564\n",
       "mean_test_score                            0.959116\n",
       "std_test_score                            0.0125257\n",
       "rank_test_score                                   1\n",
       "Name: 1, dtype: object"
      ]
     },
     "execution_count": 13,
     "metadata": {},
     "output_type": "execute_result"
    }
   ],
   "source": [
    "df = pd.DataFrame(clf_svm_rbf.cv_results_)\n",
    "df[df['mean_test_score'] == df['mean_test_score'].max()].iloc[0]"
   ]
  },
  {
   "cell_type": "code",
   "execution_count": 14,
   "metadata": {},
   "outputs": [
    {
     "name": "stdout",
     "output_type": "stream",
     "text": [
      "              precision    recall  f1-score   support\n",
      "\n",
      "       males       0.97      0.98      0.97       489\n",
      "      female       0.90      0.88      0.89       115\n",
      "\n",
      "    accuracy                           0.96       604\n",
      "   macro avg       0.94      0.93      0.93       604\n",
      "weighted avg       0.96      0.96      0.96       604\n",
      "\n"
     ]
    }
   ],
   "source": [
    "y_pred_svm_rbf  = clf_svm_rbf.predict(X_test_pca)\n",
    "print(classification_report(y_test, y_pred_svm_rbf, target_names=target_names))"
   ]
  },
  {
   "cell_type": "code",
   "execution_count": 15,
   "metadata": {},
   "outputs": [
    {
     "data": {
      "image/png": "[encoded data removed]",
      "text/plain": [
       "<Figure size 720x720 with 2 Axes>"
      ]
     },
     "metadata": {
      "needs_background": "light"
     },
     "output_type": "display_data"
    }
   ],
   "source": [
    "clf = clf_svm_rbf\n",
    "fig,ax = plt.subplots(figsize=(10,10))\n",
    "im = plot_confusion_matrix(clf, X_test_pca, y_test,\n",
    "                                 display_labels=target_names,\n",
    "                                 cmap=plt.cm.Blues,\n",
    "                                 normalize='true', ax=ax)\n",
    "\n",
    "im.im_.colorbar.remove()\n",
    "divider = make_axes_locatable(ax)\n",
    "cax = divider.append_axes(\"right\", size=\"5%\", pad=0.05)\n",
    "clb = plt.colorbar(im.im_, cax=cax)\n",
    "clb.ax.set_title('%', fontsize=25)\n",
    "clb.ax.tick_params(axis='y', labelsize=15)\n",
    "\n",
    "ax.tick_params(axis='x', labelrotation=90, labelsize=15)\n",
    "ax.tick_params(axis='y', labelsize=15)\n",
    "ax.set_xlabel('Predicted label', fontsize=20)\n",
    "ax.set_ylabel('True label', fontsize=20)\n",
    "fig.suptitle('Confusion Matrix', fontsize=25)\n",
    "\n",
    "plt.tight_layout()\n",
    "plt.subplots_adjust(top=1.02)"
   ]
  },
  {
   "cell_type": "markdown",
   "metadata": {},
   "source": [
    "### Support Vector Classification with Linear Decision Boundaries"
   ]
  },
  {
   "cell_type": "code",
   "execution_count": 16,
   "metadata": {},
   "outputs": [],
   "source": [
    "param_grid = {'C': [1e3, 5e3, 1e4, 5e4, 1e5],\n",
    "              'gamma': [0.0001, 0.0005, 0.001, 0.005, 0.01, 0.1], }\n",
    "\n",
    "model = SVC(kernel='linear', class_weight='balanced')"
   ]
  },
  {
   "cell_type": "code",
   "execution_count": 17,
   "metadata": {},
   "outputs": [
    {
     "name": "stdout",
     "output_type": "stream",
     "text": [
      "Best estimator found by grid search:\n",
      "SVC(C=5000.0, break_ties=False, cache_size=200, class_weight='balanced',\n",
      "    coef0=0.0, decision_function_shape='ovr', degree=3, gamma=0.0001,\n",
      "    kernel='linear', max_iter=-1, probability=False, random_state=None,\n",
      "    shrinking=True, tol=0.001, verbose=False)\n",
      "Score: 0.93\n"
     ]
    }
   ],
   "source": [
    "clf_svm_ln = GridSearchCV(model, param_grid)\n",
    "clf_svm_ln = clf_svm_ln.fit(X_train_pca, y_train)\n",
    "print(\"Best estimator found by grid search:\")\n",
    "print(clf_svm_ln.best_estimator_)\n",
    "print(\"Score: %0.2f\" % clf_svm_ln.best_score_)"
   ]
  },
  {
   "cell_type": "code",
   "execution_count": 18,
   "metadata": {},
   "outputs": [
    {
     "data": {
      "text/plain": [
       "mean_fit_time                              0.124218\n",
       "std_fit_time                              0.0394801\n",
       "mean_score_time                          0.00506315\n",
       "std_score_time                           0.00020199\n",
       "param_C                                        5000\n",
       "param_gamma                                  0.0001\n",
       "params               {'C': 5000.0, 'gamma': 0.0001}\n",
       "split0_test_score                          0.947514\n",
       "split1_test_score                          0.928177\n",
       "split2_test_score                           0.91989\n",
       "split3_test_score                          0.936464\n",
       "split4_test_score                          0.928177\n",
       "mean_test_score                            0.932044\n",
       "std_test_score                           0.00934339\n",
       "rank_test_score                                   1\n",
       "Name: 6, dtype: object"
      ]
     },
     "execution_count": 18,
     "metadata": {},
     "output_type": "execute_result"
    }
   ],
   "source": [
    "df = pd.DataFrame(clf_svm_ln.cv_results_)\n",
    "df[df['mean_test_score'] == df['mean_test_score'].max()].iloc[0]"
   ]
  },
  {
   "cell_type": "code",
   "execution_count": 19,
   "metadata": {},
   "outputs": [
    {
     "name": "stdout",
     "output_type": "stream",
     "text": [
      "              precision    recall  f1-score   support\n",
      "\n",
      "       males       0.96      0.96      0.96       489\n",
      "      female       0.82      0.82      0.82       115\n",
      "\n",
      "    accuracy                           0.93       604\n",
      "   macro avg       0.89      0.89      0.89       604\n",
      "weighted avg       0.93      0.93      0.93       604\n",
      "\n"
     ]
    }
   ],
   "source": [
    "y_pred_svm_ln  = clf_svm_ln.predict(X_test_pca)\n",
    "print(classification_report(y_test, y_pred_svm_ln, target_names=target_names))"
   ]
  },
  {
   "cell_type": "code",
   "execution_count": 20,
   "metadata": {},
   "outputs": [
    {
     "data": {
      "image/png": "[encoded data removed]",
      "text/plain": [
       "<Figure size 720x720 with 2 Axes>"
      ]
     },
     "metadata": {
      "needs_background": "light"
     },
     "output_type": "display_data"
    }
   ],
   "source": [
    "clf = clf_svm_ln\n",
    "fig,ax = plt.subplots(figsize=(10,10))\n",
    "im = plot_confusion_matrix(clf, X_test_pca, y_test,\n",
    "                                 display_labels=target_names,\n",
    "                                 cmap=plt.cm.Blues,\n",
    "                                 normalize='true', ax=ax)\n",
    "\n",
    "im.im_.colorbar.remove()\n",
    "divider = make_axes_locatable(ax)\n",
    "cax = divider.append_axes(\"right\", size=\"5%\", pad=0.05)\n",
    "clb = plt.colorbar(im.im_, cax=cax)\n",
    "clb.ax.set_title('%', fontsize=25)\n",
    "clb.ax.tick_params(axis='y', labelsize=15)\n",
    "\n",
    "ax.tick_params(axis='x', labelrotation=90, labelsize=15)\n",
    "ax.tick_params(axis='y', labelsize=15)\n",
    "ax.set_xlabel('Predicted label', fontsize=20)\n",
    "ax.set_ylabel('True label', fontsize=20)\n",
    "fig.suptitle('Confusion Matrix', fontsize=25)\n",
    "\n",
    "plt.tight_layout()\n",
    "plt.subplots_adjust(top=1.02)"
   ]
  },
  {
   "cell_type": "markdown",
   "metadata": {},
   "source": [
    "### Gaussian Naive Bayes"
   ]
  },
  {
   "cell_type": "code",
   "execution_count": 21,
   "metadata": {},
   "outputs": [],
   "source": [
    "param_grid = {'var_smoothing': [1e-10, 1e-09, 1e-08], }\n",
    "\n",
    "model = GaussianNB()"
   ]
  },
  {
   "cell_type": "code",
   "execution_count": 22,
   "metadata": {},
   "outputs": [
    {
     "name": "stdout",
     "output_type": "stream",
     "text": [
      "Best estimator found by grid search:\n",
      "GaussianNB(priors=None, var_smoothing=1e-10)\n",
      "Score: 0.91\n"
     ]
    }
   ],
   "source": [
    "clf_gnb = GridSearchCV(model, param_grid)\n",
    "clf_gnb = clf_gnb.fit(X_train_pca, y_train)\n",
    "print(\"Best estimator found by grid search:\")\n",
    "print(clf_gnb.best_estimator_)\n",
    "print(\"Score: %0.2f\" % clf_gnb.best_score_)"
   ]
  },
  {
   "cell_type": "code",
   "execution_count": 23,
   "metadata": {},
   "outputs": [
    {
     "data": {
      "text/plain": [
       "mean_fit_time                        0.00207453\n",
       "std_fit_time                        0.000382875\n",
       "mean_score_time                     0.000972795\n",
       "std_score_time                      0.000240923\n",
       "param_var_smoothing                       1e-10\n",
       "params                 {'var_smoothing': 1e-10}\n",
       "split0_test_score                      0.922652\n",
       "split1_test_score                      0.881215\n",
       "split2_test_score                      0.933702\n",
       "split3_test_score                      0.906077\n",
       "split4_test_score                      0.892265\n",
       "mean_test_score                        0.907182\n",
       "std_test_score                        0.0191865\n",
       "rank_test_score                               1\n",
       "Name: 0, dtype: object"
      ]
     },
     "execution_count": 23,
     "metadata": {},
     "output_type": "execute_result"
    }
   ],
   "source": [
    "df = pd.DataFrame(clf_gnb.cv_results_)\n",
    "df[df['mean_test_score'] == df['mean_test_score'].max()].iloc[0]"
   ]
  },
  {
   "cell_type": "code",
   "execution_count": 24,
   "metadata": {},
   "outputs": [
    {
     "name": "stdout",
     "output_type": "stream",
     "text": [
      "              precision    recall  f1-score   support\n",
      "\n",
      "       males       0.93      0.98      0.96       489\n",
      "      female       0.90      0.69      0.78       115\n",
      "\n",
      "    accuracy                           0.93       604\n",
      "   macro avg       0.91      0.83      0.87       604\n",
      "weighted avg       0.92      0.93      0.92       604\n",
      "\n"
     ]
    }
   ],
   "source": [
    "y_pred_gnb  = clf_gnb.predict(X_test_pca)\n",
    "print(classification_report(y_test, y_pred_gnb, target_names=target_names))"
   ]
  },
  {
   "cell_type": "code",
   "execution_count": 25,
   "metadata": {},
   "outputs": [
    {
     "data": {
      "image/png": "[encoded data removed]",
      "text/plain": [
       "<Figure size 720x720 with 2 Axes>"
      ]
     },
     "metadata": {
      "needs_background": "light"
     },
     "output_type": "display_data"
    }
   ],
   "source": [
    "clf = clf_gnb\n",
    "fig,ax = plt.subplots(figsize=(10,10))\n",
    "im = plot_confusion_matrix(clf, X_test_pca, y_test,\n",
    "                                 display_labels=target_names,\n",
    "                                 cmap=plt.cm.Blues,\n",
    "                                 normalize='true', ax=ax)\n",
    "\n",
    "im.im_.colorbar.remove()\n",
    "divider = make_axes_locatable(ax)\n",
    "cax = divider.append_axes(\"right\", size=\"5%\", pad=0.05)\n",
    "clb = plt.colorbar(im.im_, cax=cax)\n",
    "clb.ax.set_title('%', fontsize=25)\n",
    "clb.ax.tick_params(axis='y', labelsize=15)\n",
    "\n",
    "ax.tick_params(axis='x', labelrotation=90, labelsize=15)\n",
    "ax.tick_params(axis='y', labelsize=15)\n",
    "ax.set_xlabel('Predicted label', fontsize=20)\n",
    "ax.set_ylabel('True label', fontsize=20)\n",
    "fig.suptitle('Confusion Matrix', fontsize=25)\n",
    "\n",
    "plt.tight_layout()\n",
    "plt.subplots_adjust(top=1.02)"
   ]
  },
  {
   "cell_type": "markdown",
   "metadata": {},
   "source": [
    "### K-Nearest Neighbors"
   ]
  },
  {
   "cell_type": "code",
   "execution_count": 26,
   "metadata": {},
   "outputs": [],
   "source": [
    "param_grid = {'weights': ['uniform', 'distance'],\n",
    "              'n_neighbors': [1, 2, 3, 5, 10, 50], }\n",
    "\n",
    "model = KNeighborsClassifier(n_jobs=-1)"
   ]
  },
  {
   "cell_type": "code",
   "execution_count": 57,
   "metadata": {},
   "outputs": [
    {
     "name": "stdout",
     "output_type": "stream",
     "text": [
      "Best estimator found by grid search:\n",
      "QuadraticDiscriminantAnalysis(priors=None, reg_param=0.001,\n",
      "                              store_covariance=False, tol=0.0001)\n",
      "Score: 0.97\n",
      "CPU times: user 19.2 s, sys: 735 ms, total: 19.9 s\n",
      "Wall time: 2.6 s\n"
     ]
    }
   ],
   "source": [
    "%%time\n",
    "clf_knn = GridSearchCV(model, param_grid)\n",
    "clf_knn = clf_knn.fit(X_train_pca, y_train)\n",
    "print(\"Best estimator found by grid search:\")\n",
    "print(clf_knn.best_estimator_)\n",
    "print(\"Score: %0.2f\" % clf_knn.best_score_)"
   ]
  },
  {
   "cell_type": "code",
   "execution_count": 28,
   "metadata": {},
   "outputs": [
    {
     "data": {
      "text/plain": [
       "mean_fit_time                                      0.00573826\n",
       "std_fit_time                                      0.000417749\n",
       "mean_score_time                                     0.0724537\n",
       "std_score_time                                     0.00870619\n",
       "param_n_neighbors                                           2\n",
       "param_weights                                         uniform\n",
       "params               {'n_neighbors': 2, 'weights': 'uniform'}\n",
       "split0_test_score                                    0.975138\n",
       "split1_test_score                                    0.966851\n",
       "split2_test_score                                    0.975138\n",
       "split3_test_score                                    0.961326\n",
       "split4_test_score                                    0.983425\n",
       "mean_test_score                                      0.972376\n",
       "std_test_score                                      0.0076155\n",
       "rank_test_score                                             1\n",
       "Name: 2, dtype: object"
      ]
     },
     "execution_count": 28,
     "metadata": {},
     "output_type": "execute_result"
    }
   ],
   "source": [
    "df = pd.DataFrame(clf_knn.cv_results_)\n",
    "df[df['mean_test_score'] == df['mean_test_score'].max()].iloc[0]"
   ]
  },
  {
   "cell_type": "code",
   "execution_count": 29,
   "metadata": {},
   "outputs": [
    {
     "name": "stdout",
     "output_type": "stream",
     "text": [
      "              precision    recall  f1-score   support\n",
      "\n",
      "       males       0.97      0.99      0.98       489\n",
      "      female       0.97      0.85      0.91       115\n",
      "\n",
      "    accuracy                           0.97       604\n",
      "   macro avg       0.97      0.92      0.94       604\n",
      "weighted avg       0.97      0.97      0.97       604\n",
      "\n"
     ]
    }
   ],
   "source": [
    "y_pred_knn  = clf_knn.predict(X_test_pca)\n",
    "print(classification_report(y_test, y_pred_knn, target_names=target_names))"
   ]
  },
  {
   "cell_type": "code",
   "execution_count": 30,
   "metadata": {},
   "outputs": [
    {
     "data": {
      "image/png": "[encoded data removed]",
      "text/plain": [
       "<Figure size 720x720 with 2 Axes>"
      ]
     },
     "metadata": {
      "needs_background": "light"
     },
     "output_type": "display_data"
    }
   ],
   "source": [
    "clf = clf_knn\n",
    "fig,ax = plt.subplots(figsize=(10,10))\n",
    "im = plot_confusion_matrix(clf, X_test_pca, y_test,\n",
    "                                 display_labels=target_names,\n",
    "                                 cmap=plt.cm.Blues,\n",
    "                                 normalize='true', ax=ax)\n",
    "\n",
    "im.im_.colorbar.remove()\n",
    "divider = make_axes_locatable(ax)\n",
    "cax = divider.append_axes(\"right\", size=\"5%\", pad=0.05)\n",
    "clb = plt.colorbar(im.im_, cax=cax)\n",
    "clb.ax.set_title('%', fontsize=25)\n",
    "clb.ax.tick_params(axis='y', labelsize=15)\n",
    "\n",
    "ax.tick_params(axis='x', labelrotation=90, labelsize=15)\n",
    "ax.tick_params(axis='y', labelsize=15)\n",
    "ax.set_xlabel('Predicted label', fontsize=20)\n",
    "ax.set_ylabel('True label', fontsize=20)\n",
    "fig.suptitle('Confusion Matrix', fontsize=25)\n",
    "\n",
    "plt.tight_layout()\n",
    "plt.subplots_adjust(top=1.02)"
   ]
  },
  {
   "cell_type": "markdown",
   "metadata": {},
   "source": [
    "### Decision Tree"
   ]
  },
  {
   "cell_type": "code",
   "execution_count": 31,
   "metadata": {},
   "outputs": [],
   "source": [
    "param_grid = {'max_depth': [None, 50, 100, 150, 200, 1000],\n",
    "              'criterion': ['gini', 'entropy']}\n",
    "\n",
    "model = DecisionTreeClassifier()"
   ]
  },
  {
   "cell_type": "code",
   "execution_count": 32,
   "metadata": {},
   "outputs": [
    {
     "name": "stdout",
     "output_type": "stream",
     "text": [
      "Best estimator found by grid search:\n",
      "DecisionTreeClassifier(ccp_alpha=0.0, class_weight=None, criterion='entropy',\n",
      "                       max_depth=200, max_features=None, max_leaf_nodes=None,\n",
      "                       min_impurity_decrease=0.0, min_impurity_split=None,\n",
      "                       min_samples_leaf=1, min_samples_split=2,\n",
      "                       min_weight_fraction_leaf=0.0, presort='deprecated',\n",
      "                       random_state=None, splitter='best')\n",
      "Score: 0.87\n"
     ]
    }
   ],
   "source": [
    "clf_dtc = GridSearchCV(model, param_grid)\n",
    "clf_dtc = clf_dtc.fit(X_train_pca, y_train)\n",
    "print(\"Best estimator found by grid search:\")\n",
    "print(clf_dtc.best_estimator_)\n",
    "print(\"Score: %0.2f\" % clf_dtc.best_score_)"
   ]
  },
  {
   "cell_type": "code",
   "execution_count": 33,
   "metadata": {},
   "outputs": [
    {
     "data": {
      "text/plain": [
       "mean_fit_time                                          0.169848\n",
       "std_fit_time                                         0.00976835\n",
       "mean_score_time                                     0.000575781\n",
       "std_score_time                                      1.95276e-05\n",
       "param_criterion                                         entropy\n",
       "param_max_depth                                             200\n",
       "params               {'criterion': 'entropy', 'max_depth': 200}\n",
       "split0_test_score                                      0.889503\n",
       "split1_test_score                                      0.823204\n",
       "split2_test_score                                      0.895028\n",
       "split3_test_score                                      0.883978\n",
       "split4_test_score                                      0.875691\n",
       "mean_test_score                                        0.873481\n",
       "std_test_score                                        0.0259374\n",
       "rank_test_score                                               1\n",
       "Name: 10, dtype: object"
      ]
     },
     "execution_count": 33,
     "metadata": {},
     "output_type": "execute_result"
    }
   ],
   "source": [
    "df = pd.DataFrame(clf_dtc.cv_results_)\n",
    "df[df['mean_test_score'] == df['mean_test_score'].max()].iloc[0]"
   ]
  },
  {
   "cell_type": "code",
   "execution_count": 34,
   "metadata": {},
   "outputs": [
    {
     "name": "stdout",
     "output_type": "stream",
     "text": [
      "              precision    recall  f1-score   support\n",
      "\n",
      "       males       0.92      0.92      0.92       489\n",
      "      female       0.66      0.67      0.66       115\n",
      "\n",
      "    accuracy                           0.87       604\n",
      "   macro avg       0.79      0.79      0.79       604\n",
      "weighted avg       0.87      0.87      0.87       604\n",
      "\n"
     ]
    }
   ],
   "source": [
    "y_pred_dtc  = clf_dtc.predict(X_test_pca)\n",
    "print(classification_report(y_test, y_pred_dtc, target_names=target_names))"
   ]
  },
  {
   "cell_type": "code",
   "execution_count": 35,
   "metadata": {},
   "outputs": [
    {
     "data": {
      "image/png": "[encoded data removed]",
      "text/plain": [
       "<Figure size 720x720 with 2 Axes>"
      ]
     },
     "metadata": {
      "needs_background": "light"
     },
     "output_type": "display_data"
    }
   ],
   "source": [
    "clf = clf_dtc\n",
    "fig,ax = plt.subplots(figsize=(10,10))\n",
    "im = plot_confusion_matrix(clf, X_test_pca, y_test,\n",
    "                                 display_labels=target_names,\n",
    "                                 cmap=plt.cm.Blues,\n",
    "                                 normalize='true', ax=ax)\n",
    "\n",
    "im.im_.colorbar.remove()\n",
    "divider = make_axes_locatable(ax)\n",
    "cax = divider.append_axes(\"right\", size=\"5%\", pad=0.05)\n",
    "clb = plt.colorbar(im.im_, cax=cax)\n",
    "clb.ax.set_title('%', fontsize=25)\n",
    "clb.ax.tick_params(axis='y', labelsize=15)\n",
    "\n",
    "ax.tick_params(axis='x', labelrotation=90, labelsize=15)\n",
    "ax.tick_params(axis='y', labelsize=15)\n",
    "ax.set_xlabel('Predicted label', fontsize=20)\n",
    "ax.set_ylabel('True label', fontsize=20)\n",
    "fig.suptitle('Confusion Matrix', fontsize=25)\n",
    "\n",
    "plt.tight_layout()\n",
    "plt.subplots_adjust(top=1.02)"
   ]
  },
  {
   "cell_type": "markdown",
   "metadata": {},
   "source": [
    "### Random Forest "
   ]
  },
  {
   "cell_type": "code",
   "execution_count": 36,
   "metadata": {},
   "outputs": [],
   "source": [
    "param_grid = {'max_depth': [None, 50, 100, 150, 200, 1000],\n",
    "              'n_estimators': [1, 5, 10, 50, 100, 200],\n",
    "              'criterion': ['gini', 'entropy']}\n",
    "\n",
    "model = RandomForestClassifier(n_jobs=-1)"
   ]
  },
  {
   "cell_type": "code",
   "execution_count": 37,
   "metadata": {},
   "outputs": [
    {
     "name": "stdout",
     "output_type": "stream",
     "text": [
      "Best estimator found by grid search:\n",
      "RandomForestClassifier(bootstrap=True, ccp_alpha=0.0, class_weight=None,\n",
      "                       criterion='gini', max_depth=200, max_features='auto',\n",
      "                       max_leaf_nodes=None, max_samples=None,\n",
      "                       min_impurity_decrease=0.0, min_impurity_split=None,\n",
      "                       min_samples_leaf=1, min_samples_split=2,\n",
      "                       min_weight_fraction_leaf=0.0, n_estimators=200,\n",
      "                       n_jobs=-1, oob_score=False, random_state=None, verbose=0,\n",
      "                       warm_start=False)\n",
      "Score: 0.92\n"
     ]
    }
   ],
   "source": [
    "clf_rfc = GridSearchCV(model, param_grid)\n",
    "clf_rfc = clf_rfc.fit(X_train_pca, y_train)\n",
    "print(\"Best estimator found by grid search:\")\n",
    "print(clf_rfc.best_estimator_)\n",
    "print(\"Score: %0.2f\" % clf_rfc.best_score_)"
   ]
  },
  {
   "cell_type": "code",
   "execution_count": 38,
   "metadata": {},
   "outputs": [
    {
     "data": {
      "text/plain": [
       "mean_fit_time                                                   1.96192\n",
       "std_fit_time                                                   0.282262\n",
       "mean_score_time                                                0.111479\n",
       "std_score_time                                                0.0105687\n",
       "param_criterion                                                    gini\n",
       "param_max_depth                                                     200\n",
       "param_n_estimators                                                  200\n",
       "params                {'criterion': 'gini', 'max_depth': 200, 'n_est...\n",
       "split0_test_score                                              0.917127\n",
       "split1_test_score                                               0.91989\n",
       "split2_test_score                                              0.911602\n",
       "split3_test_score                                              0.922652\n",
       "split4_test_score                                              0.911602\n",
       "mean_test_score                                                0.916575\n",
       "std_test_score                                               0.00441989\n",
       "rank_test_score                                                       1\n",
       "Name: 29, dtype: object"
      ]
     },
     "execution_count": 38,
     "metadata": {},
     "output_type": "execute_result"
    }
   ],
   "source": [
    "df = pd.DataFrame(clf_rfc.cv_results_)\n",
    "df[df['mean_test_score'] == df['mean_test_score'].max()].iloc[0]"
   ]
  },
  {
   "cell_type": "code",
   "execution_count": 39,
   "metadata": {},
   "outputs": [
    {
     "name": "stdout",
     "output_type": "stream",
     "text": [
      "              precision    recall  f1-score   support\n",
      "\n",
      "       males       0.92      0.92      0.92       489\n",
      "      female       0.66      0.67      0.66       115\n",
      "\n",
      "    accuracy                           0.87       604\n",
      "   macro avg       0.79      0.79      0.79       604\n",
      "weighted avg       0.87      0.87      0.87       604\n",
      "\n"
     ]
    }
   ],
   "source": [
    "y_pred_rfc  = clf_dtc.predict(X_test_pca)\n",
    "print(classification_report(y_test, y_pred_rfc, target_names=target_names))"
   ]
  },
  {
   "cell_type": "code",
   "execution_count": 40,
   "metadata": {},
   "outputs": [
    {
     "data": {
      "image/png": "[encoded data removed]",
      "text/plain": [
       "<Figure size 720x720 with 2 Axes>"
      ]
     },
     "metadata": {
      "needs_background": "light"
     },
     "output_type": "display_data"
    }
   ],
   "source": [
    "clf = clf_rfc\n",
    "fig,ax = plt.subplots(figsize=(10,10))\n",
    "im = plot_confusion_matrix(clf, X_test_pca, y_test,\n",
    "                                 display_labels=target_names,\n",
    "                                 cmap=plt.cm.Blues,\n",
    "                                 normalize='true', ax=ax)\n",
    "\n",
    "im.im_.colorbar.remove()\n",
    "divider = make_axes_locatable(ax)\n",
    "cax = divider.append_axes(\"right\", size=\"5%\", pad=0.05)\n",
    "clb = plt.colorbar(im.im_, cax=cax)\n",
    "clb.ax.set_title('%', fontsize=25)\n",
    "clb.ax.tick_params(axis='y', labelsize=15)\n",
    "\n",
    "ax.tick_params(axis='x', labelrotation=90, labelsize=15)\n",
    "ax.tick_params(axis='y', labelsize=15)\n",
    "ax.set_xlabel('Predicted label', fontsize=20)\n",
    "ax.set_ylabel('True label', fontsize=20)\n",
    "fig.suptitle('Confusion Matrix', fontsize=25)\n",
    "\n",
    "plt.tight_layout()\n",
    "plt.subplots_adjust(top=1.02)"
   ]
  },
  {
   "cell_type": "markdown",
   "metadata": {},
   "source": [
    "### Adaboost"
   ]
  },
  {
   "cell_type": "code",
   "execution_count": 41,
   "metadata": {},
   "outputs": [],
   "source": [
    "param_grid = {'n_estimators': [1, 5, 10, 50, 100, 200],\n",
    "             'learning_rate': [0.001, 0.1, 1]}\n",
    "\n",
    "model = AdaBoostClassifier()"
   ]
  },
  {
   "cell_type": "code",
   "execution_count": 42,
   "metadata": {},
   "outputs": [
    {
     "name": "stdout",
     "output_type": "stream",
     "text": [
      "Best estimator found by grid search:\n",
      "AdaBoostClassifier(algorithm='SAMME.R', base_estimator=None, learning_rate=1,\n",
      "                   n_estimators=200, random_state=None)\n",
      "Score: 0.94\n"
     ]
    }
   ],
   "source": [
    "clf_adab = GridSearchCV(model, param_grid)\n",
    "clf_adab = clf_adab.fit(X_train_pca, y_train)\n",
    "print(\"Best estimator found by grid search:\")\n",
    "print(clf_adab.best_estimator_)\n",
    "print(\"Score: %0.2f\" % clf_adab.best_score_)"
   ]
  },
  {
   "cell_type": "code",
   "execution_count": 43,
   "metadata": {},
   "outputs": [
    {
     "data": {
      "text/plain": [
       "mean_fit_time                                            4.82709\n",
       "std_fit_time                                             0.17944\n",
       "mean_score_time                                        0.0552946\n",
       "std_score_time                                        0.00262398\n",
       "param_learning_rate                                            1\n",
       "param_n_estimators                                           200\n",
       "params                 {'learning_rate': 1, 'n_estimators': 200}\n",
       "split0_test_score                                       0.939227\n",
       "split1_test_score                                       0.941989\n",
       "split2_test_score                                       0.922652\n",
       "split3_test_score                                       0.944751\n",
       "split4_test_score                                       0.944751\n",
       "mean_test_score                                         0.938674\n",
       "std_test_score                                        0.00826886\n",
       "rank_test_score                                                1\n",
       "Name: 17, dtype: object"
      ]
     },
     "execution_count": 43,
     "metadata": {},
     "output_type": "execute_result"
    }
   ],
   "source": [
    "df = pd.DataFrame(clf_adab.cv_results_)\n",
    "df[df['mean_test_score'] == df['mean_test_score'].max()].iloc[0]"
   ]
  },
  {
   "cell_type": "code",
   "execution_count": 44,
   "metadata": {},
   "outputs": [
    {
     "name": "stdout",
     "output_type": "stream",
     "text": [
      "              precision    recall  f1-score   support\n",
      "\n",
      "       males       0.95      0.97      0.96       489\n",
      "      female       0.86      0.77      0.81       115\n",
      "\n",
      "    accuracy                           0.93       604\n",
      "   macro avg       0.90      0.87      0.88       604\n",
      "weighted avg       0.93      0.93      0.93       604\n",
      "\n"
     ]
    }
   ],
   "source": [
    "y_pred_adab  = clf_adab.predict(X_test_pca)\n",
    "print(classification_report(y_test, y_pred_adab, target_names=target_names))"
   ]
  },
  {
   "cell_type": "code",
   "execution_count": 45,
   "metadata": {},
   "outputs": [
    {
     "data": {
      "image/png": "[encoded data removed]",
      "text/plain": [
       "<Figure size 720x720 with 2 Axes>"
      ]
     },
     "metadata": {
      "needs_background": "light"
     },
     "output_type": "display_data"
    }
   ],
   "source": [
    "clf = clf_adab\n",
    "fig,ax = plt.subplots(figsize=(10,10))\n",
    "im = plot_confusion_matrix(clf, X_test_pca, y_test,\n",
    "                                 display_labels=target_names,\n",
    "                                 cmap=plt.cm.Blues,\n",
    "                                 normalize='true', ax=ax)\n",
    "\n",
    "im.im_.colorbar.remove()\n",
    "divider = make_axes_locatable(ax)\n",
    "cax = divider.append_axes(\"right\", size=\"5%\", pad=0.05)\n",
    "clb = plt.colorbar(im.im_, cax=cax)\n",
    "clb.ax.set_title('%', fontsize=25)\n",
    "clb.ax.tick_params(axis='y', labelsize=15)\n",
    "\n",
    "ax.tick_params(axis='x', labelrotation=90, labelsize=15)\n",
    "ax.tick_params(axis='y', labelsize=15)\n",
    "ax.set_xlabel('Predicted label', fontsize=20)\n",
    "ax.set_ylabel('True label', fontsize=20)\n",
    "fig.suptitle('Confusion Matrix', fontsize=25)\n",
    "\n",
    "plt.tight_layout()\n",
    "plt.subplots_adjust(top=1.02)"
   ]
  },
  {
   "cell_type": "markdown",
   "metadata": {},
   "source": [
    "### Linear Discriminant Analysis"
   ]
  },
  {
   "cell_type": "code",
   "execution_count": 46,
   "metadata": {},
   "outputs": [],
   "source": [
    "param_grid = {'tol': [0.0001, 0.001, 0.01, 0.1, 1]}\n",
    "\n",
    "model = LinearDiscriminantAnalysis()"
   ]
  },
  {
   "cell_type": "code",
   "execution_count": 47,
   "metadata": {},
   "outputs": [
    {
     "name": "stdout",
     "output_type": "stream",
     "text": [
      "Best estimator found by grid search:\n",
      "LinearDiscriminantAnalysis(n_components=None, priors=None, shrinkage=None,\n",
      "                           solver='svd', store_covariance=False, tol=0.0001)\n",
      "Score: 0.95\n"
     ]
    }
   ],
   "source": [
    "clf_lda = GridSearchCV(model, param_grid)\n",
    "clf_lda = clf_lda.fit(X_train_pca, y_train)\n",
    "print(\"Best estimator found by grid search:\")\n",
    "print(clf_lda.best_estimator_)\n",
    "print(\"Score: %0.2f\" % clf_lda.best_score_)"
   ]
  },
  {
   "cell_type": "code",
   "execution_count": 48,
   "metadata": {},
   "outputs": [
    {
     "data": {
      "text/plain": [
       "mean_fit_time               0.061649\n",
       "std_fit_time              0.00881511\n",
       "mean_score_time          0.000693893\n",
       "std_score_time           8.54138e-06\n",
       "param_tol                     0.0001\n",
       "params               {'tol': 0.0001}\n",
       "split0_test_score           0.950276\n",
       "split1_test_score           0.950276\n",
       "split2_test_score           0.961326\n",
       "split3_test_score           0.947514\n",
       "split4_test_score           0.950276\n",
       "mean_test_score             0.951934\n",
       "std_test_score            0.00481646\n",
       "rank_test_score                    1\n",
       "Name: 0, dtype: object"
      ]
     },
     "execution_count": 48,
     "metadata": {},
     "output_type": "execute_result"
    }
   ],
   "source": [
    "df = pd.DataFrame(clf_lda.cv_results_)\n",
    "df[df['mean_test_score'] == df['mean_test_score'].max()].iloc[0]"
   ]
  },
  {
   "cell_type": "code",
   "execution_count": 49,
   "metadata": {},
   "outputs": [
    {
     "name": "stdout",
     "output_type": "stream",
     "text": [
      "              precision    recall  f1-score   support\n",
      "\n",
      "       males       0.95      0.99      0.97       489\n",
      "      female       0.94      0.76      0.84       115\n",
      "\n",
      "    accuracy                           0.94       604\n",
      "   macro avg       0.94      0.87      0.90       604\n",
      "weighted avg       0.94      0.94      0.94       604\n",
      "\n"
     ]
    }
   ],
   "source": [
    "y_pred_lda  = clf_lda.predict(X_test_pca)\n",
    "print(classification_report(y_test, y_pred_lda, target_names=target_names))"
   ]
  },
  {
   "cell_type": "code",
   "execution_count": 50,
   "metadata": {},
   "outputs": [
    {
     "data": {
      "image/png": "[encoded data removed]",
      "text/plain": [
       "<Figure size 720x720 with 2 Axes>"
      ]
     },
     "metadata": {
      "needs_background": "light"
     },
     "output_type": "display_data"
    }
   ],
   "source": [
    "clf = clf_lda\n",
    "fig,ax = plt.subplots(figsize=(10,10))\n",
    "im = plot_confusion_matrix(clf, X_test_pca, y_test,\n",
    "                                 display_labels=target_names,\n",
    "                                 cmap=plt.cm.Blues,\n",
    "                                 normalize='true', ax=ax)\n",
    "\n",
    "im.im_.colorbar.remove()\n",
    "divider = make_axes_locatable(ax)\n",
    "cax = divider.append_axes(\"right\", size=\"5%\", pad=0.05)\n",
    "clb = plt.colorbar(im.im_, cax=cax)\n",
    "clb.ax.set_title('%', fontsize=25)\n",
    "clb.ax.tick_params(axis='y', labelsize=15)\n",
    "\n",
    "ax.tick_params(axis='x', labelrotation=90, labelsize=15)\n",
    "ax.tick_params(axis='y', labelsize=15)\n",
    "ax.set_xlabel('Predicted label', fontsize=20)\n",
    "ax.set_ylabel('True label', fontsize=20)\n",
    "fig.suptitle('Confusion Matrix', fontsize=25)\n",
    "\n",
    "plt.tight_layout()\n",
    "plt.subplots_adjust(top=1.02)"
   ]
  },
  {
   "cell_type": "markdown",
   "metadata": {},
   "source": [
    "### Quadratic Discriminant Analysis"
   ]
  },
  {
   "cell_type": "code",
   "execution_count": 51,
   "metadata": {},
   "outputs": [],
   "source": [
    "param_grid = {'tol': [0.0001, 0.001, 0.01, 0.1, 1],\n",
    "              'reg_param': [1, 0.0, 0.001, 0.0001]}\n",
    "\n",
    "model = QuadraticDiscriminantAnalysis()"
   ]
  },
  {
   "cell_type": "code",
   "execution_count": 56,
   "metadata": {},
   "outputs": [
    {
     "name": "stdout",
     "output_type": "stream",
     "text": [
      "Best estimator found by grid search:\n",
      "QuadraticDiscriminantAnalysis(priors=None, reg_param=0.001,\n",
      "                              store_covariance=False, tol=0.0001)\n",
      "Score: 0.97\n",
      "CPU times: user 22.6 s, sys: 2.43 s, total: 25.1 s\n",
      "Wall time: 3.87 s\n"
     ]
    }
   ],
   "source": [
    "%%time\n",
    "clf_qda = GridSearchCV(model, param_grid)\n",
    "clf_qda = clf_qda.fit(X_train_pca, y_train)\n",
    "print(\"Best estimator found by grid search:\")\n",
    "print(clf_qda.best_estimator_)\n",
    "print(\"Score: %0.2f\" % clf_qda.best_score_)"
   ]
  },
  {
   "cell_type": "code",
   "execution_count": 53,
   "metadata": {},
   "outputs": [
    {
     "data": {
      "text/plain": [
       "mean_fit_time                                  0.0563837\n",
       "std_fit_time                                   0.0045646\n",
       "mean_score_time                               0.00309596\n",
       "std_score_time                               0.000363653\n",
       "param_reg_param                                    0.001\n",
       "param_tol                                         0.0001\n",
       "params               {'reg_param': 0.001, 'tol': 0.0001}\n",
       "split0_test_score                               0.972376\n",
       "split1_test_score                               0.953039\n",
       "split2_test_score                               0.969613\n",
       "split3_test_score                               0.964088\n",
       "split4_test_score                               0.983425\n",
       "mean_test_score                                 0.968508\n",
       "std_test_score                                 0.0099754\n",
       "rank_test_score                                        1\n",
       "Name: 10, dtype: object"
      ]
     },
     "execution_count": 53,
     "metadata": {},
     "output_type": "execute_result"
    }
   ],
   "source": [
    "df = pd.DataFrame(clf_qda.cv_results_)\n",
    "df[df['mean_test_score'] == df['mean_test_score'].max()].iloc[0]"
   ]
  },
  {
   "cell_type": "code",
   "execution_count": 54,
   "metadata": {},
   "outputs": [
    {
     "name": "stdout",
     "output_type": "stream",
     "text": [
      "              precision    recall  f1-score   support\n",
      "\n",
      "       males       0.98      0.99      0.99       489\n",
      "      female       0.95      0.92      0.94       115\n",
      "\n",
      "    accuracy                           0.98       604\n",
      "   macro avg       0.97      0.96      0.96       604\n",
      "weighted avg       0.98      0.98      0.98       604\n",
      "\n"
     ]
    }
   ],
   "source": [
    "y_pred_qda  = clf_qda.predict(X_test_pca)\n",
    "print(classification_report(y_test, y_pred_qda, target_names=target_names))"
   ]
  },
  {
   "cell_type": "code",
   "execution_count": 55,
   "metadata": {},
   "outputs": [
    {
     "data": {
      "image/png": "[encoded data removed]",
      "text/plain": [
       "<Figure size 720x720 with 2 Axes>"
      ]
     },
     "metadata": {
      "needs_background": "light"
     },
     "output_type": "display_data"
    }
   ],
   "source": [
    "clf = clf_qda\n",
    "fig,ax = plt.subplots(figsize=(10,10))\n",
    "im = plot_confusion_matrix(clf, X_test_pca, y_test,\n",
    "                                 display_labels=target_names,\n",
    "                                 cmap=plt.cm.Blues,\n",
    "                                 normalize='true', ax=ax)\n",
    "\n",
    "im.im_.colorbar.remove()\n",
    "divider = make_axes_locatable(ax)\n",
    "cax = divider.append_axes(\"right\", size=\"5%\", pad=0.05)\n",
    "clb = plt.colorbar(im.im_, cax=cax)\n",
    "clb.ax.set_title('%', fontsize=25)\n",
    "clb.ax.tick_params(axis='y', labelsize=15)\n",
    "\n",
    "ax.tick_params(axis='x', labelrotation=90, labelsize=15)\n",
    "ax.tick_params(axis='y', labelsize=15)\n",
    "ax.set_xlabel('Predicted label', fontsize=20)\n",
    "ax.set_ylabel('True label', fontsize=20)\n",
    "fig.suptitle('Confusion Matrix', fontsize=25)\n",
    "\n",
    "plt.tight_layout()\n",
    "plt.subplots_adjust(top=1.02)"
   ]
  },
  {
   "cell_type": "markdown",
   "metadata": {},
   "source": [
    "## References\n",
    "\n",
    "https://scikit-learn.org/0.16/auto_examples/classification/plot_classifier_comparison.html  \n",
    "https://www.youtube.com/watch?v=epoHE2rex0g&list=PLMrJAkhIeNNSVjnsviglFoY2nXildDCcv&index=36  \n",
    "https://ieeexplore.ieee.org/document/6846297"
   ]
  }
 ],
 "metadata": {
  "kernelspec": {
   "display_name": "Python 3",
   "language": "python",
   "name": "python3"
  },
  "language_info": {
   "codemirror_mode": {
    "name": "ipython",
    "version": 3
   },
   "file_extension": ".py",
   "mimetype": "text/x-python",
   "name": "python",
   "nbconvert_exporter": "python",
   "pygments_lexer": "ipython3",
   "version": "3.8.2"
  }
 },
 "nbformat": 4,
 "nbformat_minor": 4
}
